{
  "cells": [
    {
      "cell_type": "markdown",
      "metadata": {
        "id": "view-in-github",
        "colab_type": "text"
      },
      "source": [
        "<a href=\"https://colab.research.google.com/github/aadityakhant/fakeNewsDetection/blob/main/CNN.ipynb\" target=\"_parent\"><img src=\"https://colab.research.google.com/assets/colab-badge.svg\" alt=\"Open In Colab\"/></a>"
      ]
    },
    {
      "cell_type": "markdown",
      "metadata": {
        "id": "162Ez9BZmI0e"
      },
      "source": [
        "Read each line and generate datapoint"
      ]
    },
    {
      "cell_type": "code",
      "execution_count": null,
      "metadata": {
        "id": "J0LoWn3ymI0h"
      },
      "outputs": [],
      "source": [
        "import re #regexp\n",
        "import sys\n",
        "import random\n",
        "import csv\n",
        "import numpy as np\n",
        "import pickle\n",
        "import keras as k\n",
        "from matplotlib import pyplot as plt\n",
        "csv.field_size_limit(999999999)\n",
        "\n",
        "import warnings\n",
        "from nltk.tokenize import RegexpTokenizer\n",
        "tokenizer = RegexpTokenizer('\\w+|\\$[\\d\\.]+|\\S+')\n",
        "\n",
        "warnings.simplefilter(action='ignore', category=FutureWarning)"
      ]
    },
    {
      "cell_type": "code",
      "execution_count": null,
      "metadata": {
        "id": "v4Ym5krjmI0j"
      },
      "outputs": [],
      "source": [
        "from nltk.corpus import stopwords\n",
        "stop_words = set(stopwords.words('english'))"
      ]
    },
    {
      "cell_type": "code",
      "execution_count": null,
      "metadata": {
        "id": "0lNyiki5mI0j"
      },
      "outputs": [],
      "source": [
        "Type = {\"fake\": \"fake\", \"rumor\":\"fake\", \"satire\":\"fake\", \"conspiracy\":\"fake\", \"junksci\":\"fake\", \"hate\":\"fake\", \"unreliable\":\"fake\", \"clickbait\":\"clickbait\", \"political\":\"valid\", \"reliable\":\"valid\",  \"bias\":\"bias\"}\n",
        "\n",
        "Count = {\"fake\": 15000, \"rumor\":5000, \"satire\":5000, \"conspiracy\":5000, \"junksci\":5000, \"hate\":5000, \"unreliable\":10000, \"clickbait\":50000, \"political\":25000, \"reliable\":25000, \"bias\":50000}\n"
      ]
    },
    {
      "cell_type": "markdown",
      "metadata": {
        "id": "XIfVRO8omI0k"
      },
      "source": [
        "1. Download FakeNewsCorpus data from https://github.com/several27/FakeNewsCorpus?tab=readme-ov-file\n",
        "2. Dowanload all files and then unzip any one file.\n",
        "3. Download Glove embeddings from https://www.kaggle.com/datasets/watts2/glove6b50dtxt"
      ]
    },
    {
      "cell_type": "code",
      "execution_count": null,
      "metadata": {
        "id": "bUHZzv16mI0k"
      },
      "outputs": [],
      "source": [
        "count = 0\n",
        "with open('./out.csv', 'w', newline='') as out:\n",
        "    with open('./news.csv/news_cleaned_2018_02_13.csv', encoding='utf8') as file:\n",
        "        reader = csv.reader(file)\n",
        "        writer = csv.writer(out)\n",
        "        for r in reader:\n",
        "            if(count == 200000):\n",
        "                break\n",
        "            if len(r) == 17:\n",
        "                #title->9, content->5, type->3\n",
        "                title = r[9]\n",
        "                content = r[5]\n",
        "                classification = r[3]\n",
        "                #remove urls\n",
        "                title = re.sub(r\"http\\S+\",'', title)\n",
        "                content = re.sub(r\"http\\S+\",'', content)\n",
        "                #remove non-alfa-numeric and stopwords.\n",
        "                title = [word.lower() for word in tokenizer.tokenize(title) if word.isalpha() and not word.lower() in stop_words]\n",
        "                content = [word.lower() for word in tokenizer.tokenize(content) if word.isalpha() and not word.lower() in stop_words]\n",
        "                #change classification and write\n",
        "                if len(title) != 0 and len(content) != 0:\n",
        "                    if classification in Type.keys():\n",
        "                        if Count[classification]:\n",
        "                            try:\n",
        "                                writer.writerow([ \" \".join(title),  \" \".join(content), Type[classification]])\n",
        "                                Count[classification] -= 1\n",
        "                                print(count)\n",
        "                                count += 1\n",
        "                            except:\n",
        "                                pass"
      ]
    },
    {
      "cell_type": "markdown",
      "metadata": {
        "id": "h5ZLXTcrmI0k"
      },
      "source": [
        "Read processed data and generate embeddings"
      ]
    },
    {
      "cell_type": "code",
      "execution_count": null,
      "metadata": {
        "id": "kdG74JCymI0l"
      },
      "outputs": [],
      "source": [
        "#0 -> title; 1 -> content; 2 -> type\n",
        "title_length = {}\n",
        "content_length = {}\n",
        "data = []\n",
        "with open('./out.csv') as file:\n",
        "        reader = csv.reader(file)\n",
        "        for r in reader:\n",
        "                data.append(r)\n",
        "                if len(r[0].split()) in title_length.keys():\n",
        "                        title_length[len(r[0].split())] += 1\n",
        "                else:\n",
        "                        title_length[len(r[0].split())] = 1\n",
        "                if len(r[1].split()) in content_length.keys():\n",
        "                        content_length[len(r[1].split())] += 1\n",
        "                else:\n",
        "                        content_length[len(r[1].split())] = 1\n",
        "random.shuffle()"
      ]
    },
    {
      "cell_type": "code",
      "execution_count": null,
      "metadata": {
        "id": "OPWewhqpmI0l",
        "outputId": "a87782fe-c35f-4028-a7fb-ce7825c96e80"
      },
      "outputs": [
        {
          "data": {
            "image/png": "[encoded data removed]",
            "text/plain": [
              "<Figure size 640x480 with 1 Axes>"
            ]
          },
          "metadata": {},
          "output_type": "display_data"
        }
      ],
      "source": [
        "import matplotlib.pylab as plt\n",
        "plt.scatter(title_length.keys(), title_length.values())\n",
        "plt.xlabel('title length')\n",
        "plt.ylabel('count')\n",
        "plt.show()"
      ]
    },
    {
      "cell_type": "code",
      "execution_count": null,
      "metadata": {
        "id": "CKQe_3XNmI0m",
        "outputId": "3094ab36-c886-4f64-bfe0-f48d1c97bed6"
      },
      "outputs": [
        {
          "data": {
            "image/png": "[encoded data removed]",
            "text/plain": [
              "<Figure size 640x480 with 1 Axes>"
            ]
          },
          "metadata": {},
          "output_type": "display_data"
        }
      ],
      "source": [
        "plt.scatter(content_length.keys(), content_length.values())\n",
        "plt.xlabel('content length')\n",
        "plt.ylabel('length')\n",
        "plt.show()"
      ]
    },
    {
      "cell_type": "code",
      "execution_count": null,
      "metadata": {
        "id": "Qw4aS7rZmI0m"
      },
      "outputs": [],
      "source": [
        "embeddings_dict = {}\n",
        "with open(\"glove.6B.50d.txt\", 'r', encoding=\"utf-8\") as f:\n",
        "    for line in f:\n",
        "        values = line.split()\n",
        "        word = values[0]\n",
        "        vector = np.asarray(values[1:], \"float32\")\n",
        "        embeddings_dict[word] = vector"
      ]
    },
    {
      "cell_type": "code",
      "execution_count": null,
      "metadata": {
        "id": "SHPF0hWUmI0n"
      },
      "outputs": [],
      "source": [
        "#create empty folder with name data in current directory\n",
        "one_hot_encoding = np.eye(4)\n",
        "classes = {'fake':0, 'clickbait':1, 'valid':2, 'bias':3}\n",
        "dbfile = open('examplePickle', 'wb')\n",
        "words = embeddings_dict.keys()\n",
        "for i in range(100):\n",
        "    dbfile = open('./data/pickle-' + str(i), 'wb')\n",
        "    for j in range(2000):\n",
        "        #title\n",
        "        title = data[2000*i + j][0].split()\n",
        "        if len(title)<=15:\n",
        "            title = [embeddings_dict[t] if t in words else np.zeros(50) for t in title]\n",
        "            title = np.pad(title, ((0,15-len(title)),(0,0)))\n",
        "        else:\n",
        "            title = [embeddings_dict[t] if t in words else np.zeros(50) for t in title[:15]]\n",
        "        #content\n",
        "        content = data[2000*i + j][0].split()\n",
        "        if len(content)<=1600:\n",
        "            content = [embeddings_dict[t] if t in words else np.zeros(50) for t in content]\n",
        "            content = np.pad(content, ((0,1600-len(content)),(0,0)))\n",
        "        else:\n",
        "            content = [embeddings_dict[t] if t in words else np.zeros(50) for t in content[:1600]]\n",
        "        #one hot encode type\n",
        "        classification = one_hot_encoding[classes[data[2000*i + j][2]]]\n",
        "        #append to dataset\n",
        "        pickle.dump([title,content,classification], dbfile)\n",
        "dbfile.close()"
      ]
    }
  ],
  "metadata": {
    "kernelspec": {
      "display_name": "Python 3 (ipykernel)",
      "language": "python",
      "name": "python3"
    },
    "language_info": {
      "codemirror_mode": {
        "name": "ipython",
        "version": 3
      },
      "file_extension": ".py",
      "mimetype": "text/x-python",
      "name": "python",
      "nbconvert_exporter": "python",
      "pygments_lexer": "ipython3",
      "version": "3.11.7"
    },
    "colab": {
      "provenance": [],
      "include_colab_link": true
    }
  },
  "nbformat": 4,
  "nbformat_minor": 0
}