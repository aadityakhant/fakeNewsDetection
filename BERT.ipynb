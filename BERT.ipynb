{
  "nbformat": 4,
  "nbformat_minor": 0,
  "metadata": {
    "colab": {
      "provenance": [],
      "gpuType": "T4",
      "include_colab_link": true
    },
    "kernelspec": {
      "name": "python3",
      "display_name": "Python 3"
    },
    "language_info": {
      "name": "python"
    },
    "accelerator": "GPU"
  },
  "cells": [
    {
      "cell_type": "markdown",
      "metadata": {
        "id": "view-in-github",
        "colab_type": "text"
      },
      "source": [
        "<a href=\"https://colab.research.google.com/github/aadityakhant/fakeNewsDetection/blob/main/BERT.ipynb\" target=\"_parent\"><img src=\"https://colab.research.google.com/assets/colab-badge.svg\" alt=\"Open In Colab\"/></a>"
      ]
    },
    {
      "cell_type": "code",
      "source": [
        "!pip install -q -U \"tensorflow-text==2.8.*\" --quiet\n",
        "!pip install -q -U tf-models-official==2.7.0 --quiet\n",
        "!pip install -U tfds-nightly --quiet\n",
        "\n",
        "from IPython.display import clear_output\n",
        "clear_output()"
      ],
      "metadata": {
        "id": "v7qGCHlZg752"
      },
      "execution_count": 2,
      "outputs": []
    },
    {
      "cell_type": "code",
      "source": [
        "from IPython.display import HTML, display\n",
        "def progress(value, max=200):\n",
        "    return HTML(\"\"\"\n",
        "        <progress\n",
        "            value='{value}'\n",
        "            max='{max}',\n",
        "            style='width: 100%'\n",
        "        >\n",
        "            {value}\n",
        "        </progress>\n",
        "    \"\"\".format(value=value, max=max))"
      ],
      "metadata": {
        "id": "rCDRFRmzIVjw"
      },
      "execution_count": 5,
      "outputs": []
    },
    {
      "cell_type": "code",
      "source": [
        "from google.colab import drive\n",
        "drive.mount('/content/drive')"
      ],
      "metadata": {
        "colab": {
          "base_uri": "https://localhost:8080/"
        },
        "id": "d2FMqgMgcns4",
        "outputId": "cabf49dc-7ccc-46f8-bb4d-efa516b96a17"
      },
      "execution_count": 1,
      "outputs": [
        {
          "output_type": "stream",
          "name": "stdout",
          "text": [
            "Mounted at /content/drive\n"
          ]
        }
      ]
    },
    {
      "cell_type": "code",
      "source": [
        "import os\n",
        "import csv\n",
        "import tensorflow as tf\n",
        "import tensorflow_hub as hub\n",
        "import tensorflow_datasets as tfds\n",
        "import tensorflow_text as text  # A dependency of the preprocessing model\n",
        "import tensorflow_addons as tfa\n",
        "from official.nlp import optimization\n",
        "import numpy as np\n",
        "clear_output()"
      ],
      "metadata": {
        "id": "5d01_ms-CA_z"
      },
      "execution_count": 3,
      "outputs": []
    },
    {
      "cell_type": "code",
      "execution_count": 6,
      "metadata": {
        "id": "LVxlEp_m-hA8",
        "colab": {
          "base_uri": "https://localhost:8080/",
          "height": 34
        },
        "outputId": "9e962cdc-08f9-4d2a-b19c-e7d44e246450"
      },
      "outputs": [
        {
          "output_type": "display_data",
          "data": {
            "text/plain": [
              "<IPython.core.display.HTML object>"
            ],
            "text/html": [
              "\n",
              "        <progress\n",
              "            value='0'\n",
              "            max='200',\n",
              "            style='width: 100%'\n",
              "        >\n",
              "            0\n",
              "        </progress>\n",
              "    "
            ]
          },
          "metadata": {}
        }
      ],
      "source": [
        "tf.get_logger().setLevel('ERROR')\n",
        "out = display(progress(0, 200), display_id=True)\n",
        "\n",
        "def make_bert_preprocess_model(sentence_features, seq_length=128):\n",
        "\n",
        "  input_segments = [\n",
        "      tf.keras.layers.Input(shape=(), dtype=tf.string, name=ft)\n",
        "      for ft in sentence_features]\n",
        "\n",
        "  # Tokenize the text to word pieces.\n",
        "  bert_preprocess = hub.load('https://tfhub.dev/tensorflow/bert_en_uncased_preprocess/3')\n",
        "  tokenizer = hub.KerasLayer(bert_preprocess.tokenize, name='tokenizer')\n",
        "  truncated_segments = [tokenizer(s) for s in input_segments]\n",
        "  packer = hub.KerasLayer(bert_preprocess.bert_pack_inputs,\n",
        "                          arguments=dict(seq_length=seq_length),\n",
        "                          name='packer')\n",
        "  model_inputs = packer(truncated_segments)\n",
        "  return tf.keras.Model(input_segments, model_inputs)\n",
        "\n",
        "\n",
        "bert_preprocess_model = make_bert_preprocess_model(['title', 'content'])\n",
        "\n",
        "def build_classifier_model(num_classes):\n",
        "\n",
        "  class Classifier(tf.keras.Model):\n",
        "    def __init__(self, num_classes):\n",
        "      super(Classifier, self).__init__(name=\"prediction\")\n",
        "      self.encoder = hub.KerasLayer('https://tfhub.dev/tensorflow/small_bert/bert_en_uncased_L-4_H-512_A-8/1', trainable=True)\n",
        "      self.dropout = tf.keras.layers.Dropout(0.1)\n",
        "      self.dense = tf.keras.layers.Dense(num_classes)\n",
        "\n",
        "    def call(self, preprocessed_text):\n",
        "      encoder_outputs = self.encoder(preprocessed_text)\n",
        "      pooled_output = encoder_outputs[\"pooled_output\"]\n",
        "      x = self.dropout(pooled_output)\n",
        "      x = self.dense(x)\n",
        "      return x\n",
        "\n",
        "  model = Classifier(num_classes)\n",
        "  return model\n",
        "\n",
        "def data_loader(l, r, length, bert_preprocess_model):\n",
        "  classes = {'fake':0, 'clickbait':1, 'valid':2, 'bias':3}\n",
        "  news={'input_mask':[], 'input_type_ids':[], 'input_word_ids':[]}\n",
        "  labels = []\n",
        "  for i in range(l,r):\n",
        "      out.update(progress(i, 200))\n",
        "      file = open('./drive/MyDrive/data2/pickle-'+str(i)+'.csv', 'r', encoding='latin-1')\n",
        "      reader = csv.reader(file)\n",
        "      for r in reader:\n",
        "        pre = bert_preprocess_model([np.array([r[0]]), np.array([r[1]])])\n",
        "        news['input_mask'].append(pre['input_mask'])\n",
        "        news['input_type_ids'].append(pre['input_type_ids'])\n",
        "        news['input_word_ids'].append(pre['input_word_ids'])\n",
        "        labels.append(classes[r[2]])\n",
        "      file.close()\n",
        "  news['input_mask'] = tf.reshape(news['input_mask'], (length, 128))\n",
        "  news['input_type_ids'] = tf.reshape(news['input_type_ids'], (length, 128))\n",
        "  news['input_word_ids'] = tf.reshape(news['input_word_ids'], (length, 128))\n",
        "  return (news,labels)\n",
        "\n",
        "#news_train = data_loader(0,200,100000,bert_preprocess_model)\n",
        "#news_valid = data_loader(200,210,5000,bert_preprocess_model)\n",
        "\n",
        "def load_dataset_from_tfds(in_memory_ds, train, batch_size, ):\n",
        "  dataset = tf.data.Dataset.from_tensor_slices(in_memory_ds)\n",
        "  if train:\n",
        "    dataset = dataset.shuffle(len(dataset))\n",
        "  dataset = dataset.batch(batch_size)\n",
        "  dataset = dataset.cache().prefetch(buffer_size=tf.data.AUTOTUNE)\n",
        "  return dataset\n"
      ]
    },
    {
      "cell_type": "code",
      "source": [
        "epochs = 1\n",
        "batch_size = 32\n",
        "init_lr = 2e-5\n",
        "\n",
        "#train_dataset = load_dataset_from_tfds(news_train, train=True, batch_size=batch_size)\n",
        "steps_per_epoch = 100000 // batch_size\n",
        "num_train_steps = steps_per_epoch * epochs\n",
        "num_warmup_steps = num_train_steps // 10\n",
        "\n",
        "#validation_dataset = load_dataset_from_tfds(news_valid, train=False, batch_size=batch_size, )\n",
        "validation_steps = 5000 // batch_size\n",
        "\n",
        "metrics = tf.keras.metrics.SparseCategoricalAccuracy('accuracy', dtype=tf.float32)\n",
        "loss = tf.keras.losses.SparseCategoricalCrossentropy(from_logits=True)\n",
        "\n",
        "classifier_model = build_classifier_model(4)\n",
        "\n",
        "optimizer = optimization.create_optimizer(\n",
        "    init_lr=init_lr,\n",
        "    num_train_steps=num_train_steps,\n",
        "    num_warmup_steps=num_warmup_steps,\n",
        "    optimizer_type='adamw')\n",
        "\n",
        "classifier_model.compile(optimizer=optimizer, loss=loss, metrics=[metrics])\n",
        "\n",
        "checkpoint_path = \"./drive/MyDrive/bert/cp.ckpt\"\n",
        "checkpoint_dir = os.path.dirname(checkpoint_path)\n",
        "\n",
        "# Create a callback that saves the model's weights\n",
        "cp_callback = tf.keras.callbacks.ModelCheckpoint(filepath=checkpoint_path,\n",
        "                                                 save_weights_only=True,\n",
        "                                                 verbose=1)"
      ],
      "metadata": {
        "id": "kQFKCsewH0RJ"
      },
      "execution_count": 8,
      "outputs": []
    },
    {
      "cell_type": "code",
      "source": [
        "classifier_model.load_weights(\"./drive/MyDrive/bert/cp.ckpt\")"
      ],
      "metadata": {
        "colab": {
          "base_uri": "https://localhost:8080/"
        },
        "id": "IbPIdzl2RFek",
        "outputId": "2e0ea5a0-105d-48cc-a164-88c3ab6d53a0"
      },
      "execution_count": 9,
      "outputs": [
        {
          "output_type": "execute_result",
          "data": {
            "text/plain": [
              "<tensorflow.python.training.tracking.util.CheckpointLoadStatus at 0x786c4ba3e740>"
            ]
          },
          "metadata": {},
          "execution_count": 9
        }
      ]
    },
    {
      "cell_type": "code",
      "source": [
        "classifier_model.fit(\n",
        "      x=train_dataset,\n",
        "      validation_data=validation_dataset,\n",
        "      steps_per_epoch=steps_per_epoch,\n",
        "      epochs=epochs,\n",
        "      validation_steps=validation_steps,\n",
        "      callbacks=[cp_callback])"
      ],
      "metadata": {
        "colab": {
          "base_uri": "https://localhost:8080/"
        },
        "id": "0ZQjhmsmPWJw",
        "outputId": "5d17209a-727b-40f2-c96a-f31bc3943f0a"
      },
      "execution_count": null,
      "outputs": [
        {
          "output_type": "stream",
          "name": "stdout",
          "text": [
            "2542/3125 [=======================>......] - ETA: 1:26:14 - loss: 0.6821 - accuracy: 0.7162"
          ]
        }
      ]
    },
    {
      "cell_type": "code",
      "source": [
        "news_test = data_loader(380,400,10000,bert_preprocess_model)"
      ],
      "metadata": {
        "id": "CEv7ypyJyaJ7",
        "colab": {
          "base_uri": "https://localhost:8080/",
          "height": 34
        },
        "outputId": "7f17d38a-9e52-4ad5-8813-71cacae2ab89"
      },
      "execution_count": 10,
      "outputs": [
        {
          "output_type": "display_data",
          "data": {
            "text/plain": [
              "<IPython.core.display.HTML object>"
            ],
            "text/html": [
              "\n",
              "        <progress\n",
              "            value='399'\n",
              "            max='200',\n",
              "            style='width: 100%'\n",
              "        >\n",
              "            399\n",
              "        </progress>\n",
              "    "
            ]
          },
          "metadata": {}
        }
      ]
    },
    {
      "cell_type": "code",
      "source": [
        "test_dataset = load_dataset_from_tfds(news_test, train=False, batch_size=batch_size)"
      ],
      "metadata": {
        "id": "Go2W81QSyfsh"
      },
      "execution_count": 11,
      "outputs": []
    },
    {
      "cell_type": "code",
      "source": [
        "y_pred = classifier_model.predict(test_dataset)"
      ],
      "metadata": {
        "id": "PAcvob4Jzih8"
      },
      "execution_count": 12,
      "outputs": []
    },
    {
      "cell_type": "code",
      "source": [
        "y_p = [np.argmax(i) for i in y_pred]"
      ],
      "metadata": {
        "id": "qI9EQmACPrdy"
      },
      "execution_count": 13,
      "outputs": []
    },
    {
      "cell_type": "code",
      "source": [
        "y_t = news_test[1]"
      ],
      "metadata": {
        "id": "oy1mOcIkP00A"
      },
      "execution_count": 14,
      "outputs": []
    },
    {
      "cell_type": "code",
      "source": [
        "from matplotlib import pyplot as plt\n",
        "from sklearn.metrics import confusion_matrix, ConfusionMatrixDisplay, classification_report\n",
        "ConfusionMatrixDisplay(confusion_matrix(y_t, y_p), display_labels=['fake','clickbait','valid','bias']).plot()\n",
        "plt.show()"
      ],
      "metadata": {
        "colab": {
          "base_uri": "https://localhost:8080/",
          "height": 449
        },
        "id": "SMqC7KTZIBIQ",
        "outputId": "0d45facd-bd57-430b-c455-94e7bbb69871"
      },
      "execution_count": 15,
      "outputs": [
        {
          "output_type": "display_data",
          "data": {
            "text/plain": [
              "<Figure size 640x480 with 2 Axes>"
            ],
            "image/png": "[encoded data removed]"
          },
          "metadata": {}
        }
      ]
    },
    {
      "cell_type": "code",
      "source": [
        "print(classification_report(y_pred=y_p, y_true=y_t))"
      ],
      "metadata": {
        "id": "zOyrLp34QVr_",
        "outputId": "e5735a44-0f48-4ac8-84db-87ee24bb13bc",
        "colab": {
          "base_uri": "https://localhost:8080/"
        }
      },
      "execution_count": 16,
      "outputs": [
        {
          "output_type": "stream",
          "name": "stdout",
          "text": [
            "              precision    recall  f1-score   support\n",
            "\n",
            "           0       0.87      0.76      0.81      2526\n",
            "           1       0.78      0.78      0.78      2538\n",
            "           2       0.69      0.82      0.75      2433\n",
            "           3       0.79      0.76      0.78      2503\n",
            "\n",
            "    accuracy                           0.78     10000\n",
            "   macro avg       0.78      0.78      0.78     10000\n",
            "weighted avg       0.79      0.78      0.78     10000\n",
            "\n"
          ]
        }
      ]
    }
  ]
}